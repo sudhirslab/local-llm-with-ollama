{
  "cells": [
    {
      "cell_type": "markdown",
      "metadata": {
        "id": "view-in-github",
        "colab_type": "text"
      },
      "source": [
        "<a href=\"https://colab.research.google.com/github/sudhirslab/local-llm-with-ollama/blob/main/chat_request.ipynb\" target=\"_parent\"><img src=\"https://colab.research.google.com/assets/colab-badge.svg\" alt=\"Open In Colab\"/></a>"
      ]
    },
    {
      "cell_type": "code",
      "execution_count": null,
      "metadata": {
        "id": "n8WA-ON4-eLT",
        "outputId": "c05bea51-6c5f-40ab-925c-77c08703a309"
      },
      "outputs": [
        {
          "name": "stdout",
          "output_type": "stream",
          "text": [
            "Collecting requests\n",
            "  Using cached requests-2.32.3-py3-none-any.whl.metadata (4.6 kB)\n",
            "Collecting charset-normalizer<4,>=2 (from requests)\n",
            "  Using cached charset_normalizer-3.3.2-cp311-cp311-macosx_11_0_arm64.whl.metadata (33 kB)\n",
            "Collecting idna<4,>=2.5 (from requests)\n",
            "  Using cached idna-3.10-py3-none-any.whl.metadata (10 kB)\n",
            "Collecting urllib3<3,>=1.21.1 (from requests)\n",
            "  Using cached urllib3-2.2.3-py3-none-any.whl.metadata (6.5 kB)\n",
            "Collecting certifi>=2017.4.17 (from requests)\n",
            "  Using cached certifi-2024.8.30-py3-none-any.whl.metadata (2.2 kB)\n",
            "Using cached requests-2.32.3-py3-none-any.whl (64 kB)\n",
            "Using cached certifi-2024.8.30-py3-none-any.whl (167 kB)\n",
            "Using cached charset_normalizer-3.3.2-cp311-cp311-macosx_11_0_arm64.whl (118 kB)\n",
            "Using cached idna-3.10-py3-none-any.whl (70 kB)\n",
            "Using cached urllib3-2.2.3-py3-none-any.whl (126 kB)\n",
            "Installing collected packages: urllib3, idna, charset-normalizer, certifi, requests\n",
            "Successfully installed certifi-2024.8.30 charset-normalizer-3.3.2 idna-3.10 requests-2.32.3 urllib3-2.2.3\n"
          ]
        }
      ],
      "source": [
        "! pip3 install requests"
      ]
    },
    {
      "cell_type": "code",
      "execution_count": null,
      "metadata": {
        "id": "3-gcEr7I-eLU"
      },
      "outputs": [],
      "source": [
        "# generate a JWT token via https://community.snowflake.com/s/article/How-To-Use-SnowSQL-to-generate-JWT-Token-for-Key-Pair-Authentication-Mechanism\n",
        "jwt_token = \"...\"\n",
        "chat_url = \"...\" # url for the chat service\n",
        "search_service = \"...\" # search service in the format of <database>.<schema>.<service>\n",
        "model = \"llama3.1-405b\""
      ]
    },
    {
      "cell_type": "code",
      "execution_count": null,
      "metadata": {
        "id": "z-KXSb-v-eLU",
        "outputId": "1fc1de0f-9820-4205-8855-0d7c2672268a"
      },
      "outputs": [
        {
          "name": "stdout",
          "output_type": "stream",
          "text": [
            "Status Code: 200\n",
            "\n",
            "\n",
            "\n",
            "Chat Response:\n",
            "To book travel to Snowflake Summit, you must enter the proper expense code for your trip, which is SNOW-K841 【†3†】. First, access the Corporate Travel Tool, MyTripPlanner, through Okta and log in to TripActions using your Snowflake credentials 【†2†】. Then, search for flights, compare options, and select the least expensive airfare option that complies with the travel policy 【†2†】. Ensure to plan your trips at least fourteen days in advance to benefit from lower fares 【†2†】. Additionally, follow the steps outlined in the Corporate Travel Tool to book accommodations, car rentals, and local transportation 【†1†】.\n",
            "\n",
            "\n",
            "Additional Information:\n",
            " {\"id\":\"msg_001\",\"object\":\"thread.message.delta\",\"delta\":{\"content\":[{\"index\":0,\"type\":\"citation\",\"citation\":{\"index\":1,\"chunk\":\"○ To confirm your flights, you must enter the proper expense code for your trip. To find the appropriate expense code for travel to Snowflake Summit, please see the table in KB0016213.\\nsnowflake :unselected: :unselected: :unselected: :unselected: :unselected: :selected: :unselected:\\nStep 3 - Booking Accommodations\\n● Search for Hotels: Enter your destination, check-in and check-out dates, and any other relevant preferences.\\n● Select Hotel: Choose from Snowflake’s preferred hotels whenever possible. These hotels offer negotiated rates and include amenities like internet access, breakfast, and transportation services.\\n● Confirm Booking: Select the \\\"Pay at Hotel\\\" option if flexibility is required. Always book refundable rate rooms to avoid non-reimbursable expenses if plans change.\\n● Review and Confirm: Review your hotel booking details and confirm your reservation.\\nStep 4 - Booking Car Rentals and Local Transportation\\n● Search for Car Rentals: Enter your pick-up and drop-off locations, trip dates, and times.\\n● Select Car: Choose an intermediate category car or lower unless a justified reason is provided. Avoid car rentals for short trips under 25 miles.\\n● Confirm Booking: Review and confirm your car rental reservation.\\n● Refuel Rental Car: Ensure to refuel the rental car before returning it to avoid excessive refueling charges from the rental agency.\\nStep 5 - Travel Authorizations\\n● Discuss with Manager: Before finalizing travel arrangements, discuss the business objectives and estimated costs with your manager.\\n● Obtain Approval: Ensure that the trip is essential and that all expenses are justified.\\nStep 6 - Submitting Expense Reports\\n● Gather Receipts: Collect itemized receipts for all travel-related expenses.\",\"ranges\":[{\"start\":509,\"end\":641}],\"title\":\"\",\"id\":\"\"}}]}} {\"id\":\"msg_001\",\"object\":\"thread.message.delta\",\"delta\":{\"content\":[{\"index\":1,\"type\":\"citation\",\"citation\":{\"index\":3,\"chunk\":\"5/10/24, 3:05 PM Information Technology (IT) - KB0016213 -Travel Expense Code Categories Travel Expense Code Categories KB0016213 434 views snowflake Travel Expense Code Categories Overview To ensure proper accounting and reimbursement of trip-related expenses, Snowflake categorizes trip expenses into specific codes based on the type of travel. This categorization helps in tracking expenses accurately and facilitates smooth reimbursement processes for various. Expense Code Categories \\n\\n|**Travel Type**|**Expense Code**|**Description**|\\n|---|---|---|\\n|Car Rentals|SNOW-3C4D|Rental car fees, fuel charges, insurance|\\n|Lodging|SNOW-5E6F|Hotel accommodations, taxes, and fees|\\n|Meals - Business|SNOW-7G8H|Business meals with clients or partners|\\n|Meals - Personal|SNOW-9I0J|Personal meals during business travel|\\n|Local Transport|SNOW-K1L2|Taxis, rideshare services, public transport fares|\\n|Conference Fees - External|SNOW-M3N4|Registration fees for external conferences and seminars|\\n|Snowflake Summit Travel and Registration Fees|SNOW-K841|Travel and registration fees for the annual Snowflake Data Cloud Summit|\\n|Travel Incidentals|SNOW-O5P6|Miscellaneous trip expenses (tips, Wi-Fi)|\\n|Visa Fees|SNOW-Q7R8|Costs associated with obtaining travel visas|\\n|Travel Insurance|SNOW-S9T0|Insurance premiums for business trips|\\n|Customer travel|SNOW-1B4A|Trips to customer sites|\\n\\n Please see KB0069104 for instructions on entering your expense code when booking business trips. These categories must be used when submitting expense reports to ensure accurate accounting and timely reimbursement for business travel. Each expense should be coded correctly to align with Snowflake travel policy and accounting practices.\",\"ranges\":[{\"start\":0,\"end\":108}],\"title\":\"\",\"id\":\"\"}}]}} {\"id\":\"msg_001\",\"object\":\"thread.message.delta\",\"delta\":{\"content\":[{\"index\":2,\"type\":\"citation\",\"citation\":{\"index\":2,\"chunk\":\"5/10/24, 3:05 PM Information Technology (IT) - KB006910 - Booking Business Travel at Snowflake\\nBooking Business Travel at Snowflake KB0069104\\n434 views\\nBooking Business Travel at Snowflake\\nIntroduction\\nBooking business travel at Snowflake is designed to be a seamless process, ensuring that employees can focus on their work while the logistics are handled efficiently. This step-by-step guide provides detailed instructions on how to book flights, accommodations, and other trip-related services through Snowflake’s preferred channels.\\nStep 1 - Access the Corporate Travel Tool\\n● All business travel arrangements must be made through the Corporate Travel Tool, MyTripPlanner, which is accessible through Okta. Log in to TripActions using your Snowflake credentials. Ensure that your profile is up to date with your travel preferences and loyalty program numbers.\\nStep 2 - Booking Flights\\n● Search for Flights: Enter your departure and destination locations, trip dates, and any other relevant preferences.\\n● Compare Options: TripActions will present you with various flight options. Choose the least expensive airfare option that complies with the travel policy.\\n● Select Flights: Select the flights that best suit your schedule and budget. Lower-cost alternatives, such as non-refundable fares, flights with connections, and alternate airports, may be suggested.\\n● Confirm Booking: Review your flight details and confirm your booking. Ensure to plan your trips at least fourteen days in advance to benefit from lower fares.\\n○ To confirm your flights, you must enter the proper expense code for your trip. To find the appropriate expense code for travel to Snowflake Summit, please see the table in KB0016213.\",\"ranges\":[{\"start\":122,\"end\":251},{\"start\":265,\"end\":392},{\"start\":406,\"end\":495}],\"title\":\"\",\"id\":\"\"}}]}}\n"
          ]
        }
      ],
      "source": [
        "import requests\n",
        "import json\n",
        "\n",
        "\n",
        "chat_headers = {\n",
        "  \"X-Snowflake-Authorization-Token-Type\": \"KEYPAIR_JWT\",\n",
        "  \"Content-Type\": \"application/json\",\n",
        "  \"Accept\": \"application/json\",\n",
        "  \"Authorization\": f\"Bearer {jwt_token}\",\n",
        "}\n",
        "data = {\n",
        "  \"query\": \"how to book travel to snowflake summit?\",\n",
        "  \"search_services\": [\n",
        "    {\n",
        "      \"name\": search_service,\n",
        "      \"max_results\": 3,\n",
        "    }\n",
        "  ],\n",
        "  \"model\": model\n",
        "}\n",
        "\n",
        "resp = requests.post(chat_url, headers=chat_headers, json=data)\n",
        "answer = \"\"\n",
        "others = \"\"\n",
        "print(\"Status Code:\", resp.status_code)\n",
        "for line in resp.iter_lines():\n",
        "    if line:\n",
        "        out = line.decode('utf-8')\n",
        "        if out.startswith('data:') and out != \"data: [DONE]\":\n",
        "            out_json = out[5:]\n",
        "            out_dict = json.loads(out_json)\n",
        "            if out_dict[\"object\"] == \"thread.message.delta\" and out_dict[\"delta\"][\"content\"][0][\"type\"] == \"text\":\n",
        "                answer += out_dict[\"delta\"][\"content\"][0][\"text\"][\"value\"]\n",
        "            else:\n",
        "                others += out_json\n",
        "\n",
        "print(\"\\n\\n\")\n",
        "print(\"Chat Response:\")\n",
        "print(answer)\n",
        "print(\"\\n\\nAdditional Information:\")\n",
        "print(others)"
      ]
    },
    {
      "cell_type": "code",
      "execution_count": null,
      "metadata": {
        "id": "XHCH_3NM-eLV"
      },
      "outputs": [],
      "source": []
    }
  ],
  "metadata": {
    "kernelspec": {
      "display_name": ".venv",
      "language": "python",
      "name": "python3"
    },
    "language_info": {
      "codemirror_mode": {
        "name": "ipython",
        "version": 3
      },
      "file_extension": ".py",
      "mimetype": "text/x-python",
      "name": "python",
      "nbconvert_exporter": "python",
      "pygments_lexer": "ipython3",
      "version": "3.11.7"
    },
    "colab": {
      "provenance": [],
      "include_colab_link": true
    }
  },
  "nbformat": 4,
  "nbformat_minor": 0
}